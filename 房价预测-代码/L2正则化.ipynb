{
 "cells": [
  {
   "cell_type": "code",
   "execution_count": 69,
   "id": "e7389e36-7bb3-440d-9ce9-b4c57170304d",
   "metadata": {},
   "outputs": [],
   "source": [
    "import pandas as pd\n",
    "import numpy as np \n",
    "import matplotlib\n",
    "import matplotlib.pyplot as plt \n",
    "import seaborn as sns\n",
    "from sklearn.svm import SVR\n",
    "import sklearn.datasets\n",
    "from sklearn.preprocessing import StandardScaler\n",
    "from sklearn.model_selection import train_test_split\n",
    "from sklearn import metrics\n",
    "from sklearn.metrics import mean_squared_error\n",
    "from sklearn.linear_model import LinearRegression\n",
    "from tensorflow.keras.models import Sequential\n",
    "from tensorflow.keras.layers import Dense\n",
    "from tensorflow.keras.optimizers import Adam\n",
    "from sklearn.decomposition import PCA\n",
    "from sklearn.linear_model import Ridge\n",
    "from sklearn.metrics import mean_squared_error, r2_score\n",
    "import matplotlib.pyplot as plt\n",
    "from sklearn.linear_model import RidgeCV\n",
    "from sklearn.model_selection import GridSearchCV\n",
    "import tensorflow as tf\n",
    "from tensorflow.keras import layers, models\n"
   ]
  },
  {
   "cell_type": "code",
   "execution_count": 25,
   "id": "73aa87bc-ff58-4258-a656-45322f3fd5ef",
   "metadata": {},
   "outputs": [],
   "source": [
    "house_price_dataframe= pd.read_csv('清洗数据.csv')\n",
    "house_price_dataframe =house_price_dataframe.drop('label',axis=1)\n",
    "X = house_price_dataframe.drop(['Price'], axis=1)\n",
    "Y = house_price_dataframe['Price']"
   ]
  },
  {
   "cell_type": "code",
   "execution_count": 27,
   "id": "f7ab0d72-8598-4911-8f00-c063d75f00fd",
   "metadata": {},
   "outputs": [],
   "source": [
    "scaler = StandardScaler()\n",
    "X_scaled = scaler.fit_transform(X)"
   ]
  },
  {
   "cell_type": "code",
   "execution_count": 29,
   "id": "a183db53-69d9-4d40-8f80-daf0b089804e",
   "metadata": {},
   "outputs": [],
   "source": [
    "pca = PCA(n_components=0.95)\n",
    "X_pca = pca.fit_transform(X_scaled)"
   ]
  },
  {
   "cell_type": "code",
   "execution_count": 93,
   "id": "a1a58ccf-6e04-4123-af12-91eac4cc2241",
   "metadata": {},
   "outputs": [],
   "source": [
    "X_train, X_test, Y_train, Y_test = train_test_split(X_pca, Y, test_size=0.2, random_state=5)"
   ]
  },
  {
   "cell_type": "code",
   "execution_count": 43,
   "id": "0062c267-2032-4a94-a037-5462c59c2d7a",
   "metadata": {},
   "outputs": [
    {
     "name": "stdout",
     "output_type": "stream",
     "text": [
      "最佳的 alpha 值: 100.0\n"
     ]
    }
   ],
   "source": [
    "ridge_regressor_cv = RidgeCV(alphas=[0.1, 1.0, 10.0, 100.0], store_cv_values=True)\n",
    "ridge_regressor_cv.fit(X_train, Y_train)\n",
    "print(f\"最佳的 alpha 值: {ridge_regressor_cv.alpha_}\")"
   ]
  },
  {
   "cell_type": "code",
   "execution_count": 47,
   "id": "4ae76017-567f-47ec-8f95-f53edeede67a",
   "metadata": {},
   "outputs": [],
   "source": [
    "Y_train_pred = ridge_regressor_cv.predict(X_train)\n",
    "Y_test_pred = ridge_regressor_cv.predict(X_test)"
   ]
  },
  {
   "cell_type": "code",
   "execution_count": 49,
   "id": "7e8435ac-6885-4cb7-bd2a-ce2883174248",
   "metadata": {},
   "outputs": [
    {
     "name": "stdout",
     "output_type": "stream",
     "text": [
      "训练集 R^2: 0.501729347554318\n",
      "训练集 MSE: 0.6173983786219008\n",
      "测试集 R^2: 0.5005253817279409\n",
      "测试集 MSE: 0.595546384696465\n"
     ]
    }
   ],
   "source": [
    "r2_train = r2_score(Y_train, Y_train_pred)\n",
    "mse_train = mean_squared_error(Y_train, Y_train_pred)\n",
    "\n",
    "# 测试集上的评估\n",
    "r2_test = r2_score(Y_test, Y_test_pred)\n",
    "mse_test = mean_squared_error(Y_test, Y_test_pred)\n",
    "\n",
    "# 输出结果\n",
    "print(f\"训练集 R^2: {r2_train}\")\n",
    "print(f\"训练集 MSE: {mse_train}\")\n",
    "print(f\"测试集 R^2: {r2_test}\")\n",
    "print(f\"测试集 MSE: {mse_test}\")"
   ]
  },
  {
   "cell_type": "code",
   "execution_count": 75,
   "id": "e7c94b40-2523-4dfb-89d9-b644f7936937",
   "metadata": {},
   "outputs": [
    {
     "data": {
      "text/html": [
       "<style>#sk-container-id-4 {color: black;}#sk-container-id-4 pre{padding: 0;}#sk-container-id-4 div.sk-toggleable {background-color: white;}#sk-container-id-4 label.sk-toggleable__label {cursor: pointer;display: block;width: 100%;margin-bottom: 0;padding: 0.3em;box-sizing: border-box;text-align: center;}#sk-container-id-4 label.sk-toggleable__label-arrow:before {content: \"▸\";float: left;margin-right: 0.25em;color: #696969;}#sk-container-id-4 label.sk-toggleable__label-arrow:hover:before {color: black;}#sk-container-id-4 div.sk-estimator:hover label.sk-toggleable__label-arrow:before {color: black;}#sk-container-id-4 div.sk-toggleable__content {max-height: 0;max-width: 0;overflow: hidden;text-align: left;background-color: #f0f8ff;}#sk-container-id-4 div.sk-toggleable__content pre {margin: 0.2em;color: black;border-radius: 0.25em;background-color: #f0f8ff;}#sk-container-id-4 input.sk-toggleable__control:checked~div.sk-toggleable__content {max-height: 200px;max-width: 100%;overflow: auto;}#sk-container-id-4 input.sk-toggleable__control:checked~label.sk-toggleable__label-arrow:before {content: \"▾\";}#sk-container-id-4 div.sk-estimator input.sk-toggleable__control:checked~label.sk-toggleable__label {background-color: #d4ebff;}#sk-container-id-4 div.sk-label input.sk-toggleable__control:checked~label.sk-toggleable__label {background-color: #d4ebff;}#sk-container-id-4 input.sk-hidden--visually {border: 0;clip: rect(1px 1px 1px 1px);clip: rect(1px, 1px, 1px, 1px);height: 1px;margin: -1px;overflow: hidden;padding: 0;position: absolute;width: 1px;}#sk-container-id-4 div.sk-estimator {font-family: monospace;background-color: #f0f8ff;border: 1px dotted black;border-radius: 0.25em;box-sizing: border-box;margin-bottom: 0.5em;}#sk-container-id-4 div.sk-estimator:hover {background-color: #d4ebff;}#sk-container-id-4 div.sk-parallel-item::after {content: \"\";width: 100%;border-bottom: 1px solid gray;flex-grow: 1;}#sk-container-id-4 div.sk-label:hover label.sk-toggleable__label {background-color: #d4ebff;}#sk-container-id-4 div.sk-serial::before {content: \"\";position: absolute;border-left: 1px solid gray;box-sizing: border-box;top: 0;bottom: 0;left: 50%;z-index: 0;}#sk-container-id-4 div.sk-serial {display: flex;flex-direction: column;align-items: center;background-color: white;padding-right: 0.2em;padding-left: 0.2em;position: relative;}#sk-container-id-4 div.sk-item {position: relative;z-index: 1;}#sk-container-id-4 div.sk-parallel {display: flex;align-items: stretch;justify-content: center;background-color: white;position: relative;}#sk-container-id-4 div.sk-item::before, #sk-container-id-4 div.sk-parallel-item::before {content: \"\";position: absolute;border-left: 1px solid gray;box-sizing: border-box;top: 0;bottom: 0;left: 50%;z-index: -1;}#sk-container-id-4 div.sk-parallel-item {display: flex;flex-direction: column;z-index: 1;position: relative;background-color: white;}#sk-container-id-4 div.sk-parallel-item:first-child::after {align-self: flex-end;width: 50%;}#sk-container-id-4 div.sk-parallel-item:last-child::after {align-self: flex-start;width: 50%;}#sk-container-id-4 div.sk-parallel-item:only-child::after {width: 0;}#sk-container-id-4 div.sk-dashed-wrapped {border: 1px dashed gray;margin: 0 0.4em 0.5em 0.4em;box-sizing: border-box;padding-bottom: 0.4em;background-color: white;}#sk-container-id-4 div.sk-label label {font-family: monospace;font-weight: bold;display: inline-block;line-height: 1.2em;}#sk-container-id-4 div.sk-label-container {text-align: center;}#sk-container-id-4 div.sk-container {/* jupyter's `normalize.less` sets `[hidden] { display: none; }` but bootstrap.min.css set `[hidden] { display: none !important; }` so we also need the `!important` here to be able to override the default hidden behavior on the sphinx rendered scikit-learn.org. See: https://github.com/scikit-learn/scikit-learn/issues/21755 */display: inline-block !important;position: relative;}#sk-container-id-4 div.sk-text-repr-fallback {display: none;}</style><div id=\"sk-container-id-4\" class=\"sk-top-container\"><div class=\"sk-text-repr-fallback\"><pre>SVR()</pre><b>In a Jupyter environment, please rerun this cell to show the HTML representation or trust the notebook. <br />On GitHub, the HTML representation is unable to render, please try loading this page with nbviewer.org.</b></div><div class=\"sk-container\" hidden><div class=\"sk-item\"><div class=\"sk-estimator sk-toggleable\"><input class=\"sk-toggleable__control sk-hidden--visually\" id=\"sk-estimator-id-6\" type=\"checkbox\" checked><label for=\"sk-estimator-id-6\" class=\"sk-toggleable__label sk-toggleable__label-arrow\">SVR</label><div class=\"sk-toggleable__content\"><pre>SVR()</pre></div></div></div></div></div>"
      ],
      "text/plain": [
       "SVR()"
      ]
     },
     "execution_count": 75,
     "metadata": {},
     "output_type": "execute_result"
    }
   ],
   "source": [
    "svm_regressor = SVR(kernel='rbf', C=1.0, epsilon=0.1)  \n",
    "svm_regressor.fit(X_train, Y_train)"
   ]
  },
  {
   "cell_type": "code",
   "execution_count": 59,
   "id": "aee1416f-cdf6-449f-b476-438d351f2d7c",
   "metadata": {},
   "outputs": [],
   "source": [
    "param_grid = {\n",
    "    'C': [0.1, 1, 10],\n",
    "    'epsilon': [0.01, 0.1, 0.5]\n",
    "}"
   ]
  },
  {
   "cell_type": "code",
   "execution_count": 61,
   "id": "b3b59a0b-bff0-48c6-b5e8-061ec21c47fe",
   "metadata": {},
   "outputs": [
    {
     "data": {
      "text/html": [
       "<style>#sk-container-id-3 {color: black;}#sk-container-id-3 pre{padding: 0;}#sk-container-id-3 div.sk-toggleable {background-color: white;}#sk-container-id-3 label.sk-toggleable__label {cursor: pointer;display: block;width: 100%;margin-bottom: 0;padding: 0.3em;box-sizing: border-box;text-align: center;}#sk-container-id-3 label.sk-toggleable__label-arrow:before {content: \"▸\";float: left;margin-right: 0.25em;color: #696969;}#sk-container-id-3 label.sk-toggleable__label-arrow:hover:before {color: black;}#sk-container-id-3 div.sk-estimator:hover label.sk-toggleable__label-arrow:before {color: black;}#sk-container-id-3 div.sk-toggleable__content {max-height: 0;max-width: 0;overflow: hidden;text-align: left;background-color: #f0f8ff;}#sk-container-id-3 div.sk-toggleable__content pre {margin: 0.2em;color: black;border-radius: 0.25em;background-color: #f0f8ff;}#sk-container-id-3 input.sk-toggleable__control:checked~div.sk-toggleable__content {max-height: 200px;max-width: 100%;overflow: auto;}#sk-container-id-3 input.sk-toggleable__control:checked~label.sk-toggleable__label-arrow:before {content: \"▾\";}#sk-container-id-3 div.sk-estimator input.sk-toggleable__control:checked~label.sk-toggleable__label {background-color: #d4ebff;}#sk-container-id-3 div.sk-label input.sk-toggleable__control:checked~label.sk-toggleable__label {background-color: #d4ebff;}#sk-container-id-3 input.sk-hidden--visually {border: 0;clip: rect(1px 1px 1px 1px);clip: rect(1px, 1px, 1px, 1px);height: 1px;margin: -1px;overflow: hidden;padding: 0;position: absolute;width: 1px;}#sk-container-id-3 div.sk-estimator {font-family: monospace;background-color: #f0f8ff;border: 1px dotted black;border-radius: 0.25em;box-sizing: border-box;margin-bottom: 0.5em;}#sk-container-id-3 div.sk-estimator:hover {background-color: #d4ebff;}#sk-container-id-3 div.sk-parallel-item::after {content: \"\";width: 100%;border-bottom: 1px solid gray;flex-grow: 1;}#sk-container-id-3 div.sk-label:hover label.sk-toggleable__label {background-color: #d4ebff;}#sk-container-id-3 div.sk-serial::before {content: \"\";position: absolute;border-left: 1px solid gray;box-sizing: border-box;top: 0;bottom: 0;left: 50%;z-index: 0;}#sk-container-id-3 div.sk-serial {display: flex;flex-direction: column;align-items: center;background-color: white;padding-right: 0.2em;padding-left: 0.2em;position: relative;}#sk-container-id-3 div.sk-item {position: relative;z-index: 1;}#sk-container-id-3 div.sk-parallel {display: flex;align-items: stretch;justify-content: center;background-color: white;position: relative;}#sk-container-id-3 div.sk-item::before, #sk-container-id-3 div.sk-parallel-item::before {content: \"\";position: absolute;border-left: 1px solid gray;box-sizing: border-box;top: 0;bottom: 0;left: 50%;z-index: -1;}#sk-container-id-3 div.sk-parallel-item {display: flex;flex-direction: column;z-index: 1;position: relative;background-color: white;}#sk-container-id-3 div.sk-parallel-item:first-child::after {align-self: flex-end;width: 50%;}#sk-container-id-3 div.sk-parallel-item:last-child::after {align-self: flex-start;width: 50%;}#sk-container-id-3 div.sk-parallel-item:only-child::after {width: 0;}#sk-container-id-3 div.sk-dashed-wrapped {border: 1px dashed gray;margin: 0 0.4em 0.5em 0.4em;box-sizing: border-box;padding-bottom: 0.4em;background-color: white;}#sk-container-id-3 div.sk-label label {font-family: monospace;font-weight: bold;display: inline-block;line-height: 1.2em;}#sk-container-id-3 div.sk-label-container {text-align: center;}#sk-container-id-3 div.sk-container {/* jupyter's `normalize.less` sets `[hidden] { display: none; }` but bootstrap.min.css set `[hidden] { display: none !important; }` so we also need the `!important` here to be able to override the default hidden behavior on the sphinx rendered scikit-learn.org. See: https://github.com/scikit-learn/scikit-learn/issues/21755 */display: inline-block !important;position: relative;}#sk-container-id-3 div.sk-text-repr-fallback {display: none;}</style><div id=\"sk-container-id-3\" class=\"sk-top-container\"><div class=\"sk-text-repr-fallback\"><pre>GridSearchCV(cv=5, estimator=SVR(),\n",
       "             param_grid={&#x27;C&#x27;: [0.1, 1, 10], &#x27;epsilon&#x27;: [0.01, 0.1, 0.5]},\n",
       "             scoring=&#x27;neg_mean_squared_error&#x27;)</pre><b>In a Jupyter environment, please rerun this cell to show the HTML representation or trust the notebook. <br />On GitHub, the HTML representation is unable to render, please try loading this page with nbviewer.org.</b></div><div class=\"sk-container\" hidden><div class=\"sk-item sk-dashed-wrapped\"><div class=\"sk-label-container\"><div class=\"sk-label sk-toggleable\"><input class=\"sk-toggleable__control sk-hidden--visually\" id=\"sk-estimator-id-3\" type=\"checkbox\" ><label for=\"sk-estimator-id-3\" class=\"sk-toggleable__label sk-toggleable__label-arrow\">GridSearchCV</label><div class=\"sk-toggleable__content\"><pre>GridSearchCV(cv=5, estimator=SVR(),\n",
       "             param_grid={&#x27;C&#x27;: [0.1, 1, 10], &#x27;epsilon&#x27;: [0.01, 0.1, 0.5]},\n",
       "             scoring=&#x27;neg_mean_squared_error&#x27;)</pre></div></div></div><div class=\"sk-parallel\"><div class=\"sk-parallel-item\"><div class=\"sk-item\"><div class=\"sk-label-container\"><div class=\"sk-label sk-toggleable\"><input class=\"sk-toggleable__control sk-hidden--visually\" id=\"sk-estimator-id-4\" type=\"checkbox\" ><label for=\"sk-estimator-id-4\" class=\"sk-toggleable__label sk-toggleable__label-arrow\">estimator: SVR</label><div class=\"sk-toggleable__content\"><pre>SVR()</pre></div></div></div><div class=\"sk-serial\"><div class=\"sk-item\"><div class=\"sk-estimator sk-toggleable\"><input class=\"sk-toggleable__control sk-hidden--visually\" id=\"sk-estimator-id-5\" type=\"checkbox\" ><label for=\"sk-estimator-id-5\" class=\"sk-toggleable__label sk-toggleable__label-arrow\">SVR</label><div class=\"sk-toggleable__content\"><pre>SVR()</pre></div></div></div></div></div></div></div></div></div></div>"
      ],
      "text/plain": [
       "GridSearchCV(cv=5, estimator=SVR(),\n",
       "             param_grid={'C': [0.1, 1, 10], 'epsilon': [0.01, 0.1, 0.5]},\n",
       "             scoring='neg_mean_squared_error')"
      ]
     },
     "execution_count": 61,
     "metadata": {},
     "output_type": "execute_result"
    }
   ],
   "source": [
    "grid_search = GridSearchCV(svm_regressor, param_grid, cv=5, scoring='neg_mean_squared_error')\n",
    "grid_search.fit(X_train, Y_train)"
   ]
  },
  {
   "cell_type": "code",
   "execution_count": 77,
   "id": "aaa3f477-a267-4ac2-95ec-42c7fbaed4cd",
   "metadata": {},
   "outputs": [
    {
     "name": "stdout",
     "output_type": "stream",
     "text": [
      "最佳参数组合: {'C': 10, 'epsilon': 0.5}\n"
     ]
    }
   ],
   "source": [
    "print(f\"最佳参数组合: {grid_search.best_params_}\")\n"
   ]
  },
  {
   "cell_type": "code",
   "execution_count": 79,
   "id": "b450ad40-b616-4e40-a5bc-afca24a8a849",
   "metadata": {},
   "outputs": [],
   "source": [
    "best_svm_regressor = grid_search.best_estimator_"
   ]
  },
  {
   "cell_type": "code",
   "execution_count": 81,
   "id": "4e56dc81-999e-4d0f-8f89-804b243e1429",
   "metadata": {},
   "outputs": [
    {
     "name": "stdout",
     "output_type": "stream",
     "text": [
      "训练集 R^2: 0.699599231950103\n",
      "训练集 MSE: 0.37222129423124795\n",
      "测试集 R^2: 0.6733965734278997\n",
      "测试集 MSE: 0.38942417253832384\n"
     ]
    }
   ],
   "source": [
    "Y_train_pred =best_svm_regressor.predict(X_train)\n",
    "Y_test_pred = best_svm_regressor.predict(X_test)\n",
    "r2_train = r2_score(Y_train, Y_train_pred)\n",
    "mse_train = mean_squared_error(Y_train, Y_train_pred)\n",
    "\n",
    "# 测试集上的评估\n",
    "r2_test = r2_score(Y_test, Y_test_pred)\n",
    "mse_test = mean_squared_error(Y_test, Y_test_pred)\n",
    "\n",
    "# 输出结果\n",
    "print(f\"训练集 R^2: {r2_train}\")\n",
    "print(f\"训练集 MSE: {mse_train}\")\n",
    "print(f\"测试集 R^2: {r2_test}\")\n",
    "print(f\"测试集 MSE: {mse_test}\")"
   ]
  },
  {
   "cell_type": "code",
   "execution_count": 87,
   "id": "a9200a70-2502-468a-8489-2b0649705ec6",
   "metadata": {},
   "outputs": [],
   "source": [
    "model = models.Sequential()\n",
    "model.add(layers.Dense(128, activation='relu', input_dim=X_train.shape[1]))\n",
    "model.add(layers.Dropout(0.2))\n",
    "model.add(layers.Dense(64, activation='relu'))\n",
    "model.add(layers.Dropout(0.2))\n",
    "model.add(layers.Dense(1)) \n",
    "model.compile(optimizer='adam', loss='mean_squared_error')"
   ]
  },
  {
   "cell_type": "code",
   "execution_count": 89,
   "id": "e4cf267c-02c9-43a5-9a0d-1268d7f1099a",
   "metadata": {},
   "outputs": [
    {
     "name": "stdout",
     "output_type": "stream",
     "text": [
      "Epoch 1/100\n",
      "508/508 [==============================] - 1s 1ms/step - loss: 0.7639 - val_loss: 0.4736\n",
      "Epoch 2/100\n",
      "508/508 [==============================] - 1s 1ms/step - loss: 0.5486 - val_loss: 0.4708\n",
      "Epoch 3/100\n",
      "508/508 [==============================] - 1s 1ms/step - loss: 0.5180 - val_loss: 0.4577\n",
      "Epoch 4/100\n",
      "508/508 [==============================] - 1s 1ms/step - loss: 0.5078 - val_loss: 0.4687\n",
      "Epoch 5/100\n",
      "508/508 [==============================] - 1s 1ms/step - loss: 0.4875 - val_loss: 0.4253\n",
      "Epoch 6/100\n",
      "508/508 [==============================] - 1s 1ms/step - loss: 0.4814 - val_loss: 0.4192\n",
      "Epoch 7/100\n",
      "508/508 [==============================] - 1s 1ms/step - loss: 0.4738 - val_loss: 0.4152\n",
      "Epoch 8/100\n",
      "508/508 [==============================] - 1s 1ms/step - loss: 0.4709 - val_loss: 0.4177\n",
      "Epoch 9/100\n",
      "508/508 [==============================] - 1s 2ms/step - loss: 0.4635 - val_loss: 0.4130\n",
      "Epoch 10/100\n",
      "508/508 [==============================] - 1s 1ms/step - loss: 0.4633 - val_loss: 0.4184\n",
      "Epoch 11/100\n",
      "508/508 [==============================] - 1s 1ms/step - loss: 0.4548 - val_loss: 0.4072\n",
      "Epoch 12/100\n",
      "508/508 [==============================] - 1s 1ms/step - loss: 0.4556 - val_loss: 0.4059\n",
      "Epoch 13/100\n",
      "508/508 [==============================] - 1s 1ms/step - loss: 0.4470 - val_loss: 0.4056\n",
      "Epoch 14/100\n",
      "508/508 [==============================] - 1s 1ms/step - loss: 0.4410 - val_loss: 0.4057\n",
      "Epoch 15/100\n",
      "508/508 [==============================] - 1s 1ms/step - loss: 0.4401 - val_loss: 0.3984\n",
      "Epoch 16/100\n",
      "508/508 [==============================] - 1s 1ms/step - loss: 0.4345 - val_loss: 0.3969\n",
      "Epoch 17/100\n",
      "508/508 [==============================] - 1s 1ms/step - loss: 0.4328 - val_loss: 0.4032\n",
      "Epoch 18/100\n",
      "508/508 [==============================] - 1s 1ms/step - loss: 0.4311 - val_loss: 0.3901\n",
      "Epoch 19/100\n",
      "508/508 [==============================] - 1s 1ms/step - loss: 0.4274 - val_loss: 0.3880\n",
      "Epoch 20/100\n",
      "508/508 [==============================] - 1s 1ms/step - loss: 0.4253 - val_loss: 0.3877\n",
      "Epoch 21/100\n",
      "508/508 [==============================] - 1s 1ms/step - loss: 0.4258 - val_loss: 0.3831\n",
      "Epoch 22/100\n",
      "508/508 [==============================] - 1s 1ms/step - loss: 0.4206 - val_loss: 0.3904\n",
      "Epoch 23/100\n",
      "508/508 [==============================] - 1s 1ms/step - loss: 0.4168 - val_loss: 0.3854\n",
      "Epoch 24/100\n",
      "508/508 [==============================] - 1s 1ms/step - loss: 0.4181 - val_loss: 0.3838\n",
      "Epoch 25/100\n",
      "508/508 [==============================] - 1s 1ms/step - loss: 0.4167 - val_loss: 0.3876\n",
      "Epoch 26/100\n",
      "508/508 [==============================] - 1s 1ms/step - loss: 0.4145 - val_loss: 0.3792\n",
      "Epoch 27/100\n",
      "508/508 [==============================] - 1s 1ms/step - loss: 0.4122 - val_loss: 0.3815\n",
      "Epoch 28/100\n",
      "508/508 [==============================] - 1s 1ms/step - loss: 0.4112 - val_loss: 0.3867\n",
      "Epoch 29/100\n",
      "508/508 [==============================] - 1s 1ms/step - loss: 0.4132 - val_loss: 0.3779\n",
      "Epoch 30/100\n",
      "508/508 [==============================] - 1s 1ms/step - loss: 0.4087 - val_loss: 0.3800\n",
      "Epoch 31/100\n",
      "508/508 [==============================] - 1s 1ms/step - loss: 0.4054 - val_loss: 0.3775\n",
      "Epoch 32/100\n",
      "508/508 [==============================] - 1s 1ms/step - loss: 0.4055 - val_loss: 0.3723\n",
      "Epoch 33/100\n",
      "508/508 [==============================] - 1s 1ms/step - loss: 0.4103 - val_loss: 0.3774\n",
      "Epoch 34/100\n",
      "508/508 [==============================] - 1s 1ms/step - loss: 0.4067 - val_loss: 0.3748\n",
      "Epoch 35/100\n",
      "508/508 [==============================] - 1s 1ms/step - loss: 0.4051 - val_loss: 0.3783\n",
      "Epoch 36/100\n",
      "508/508 [==============================] - 1s 1ms/step - loss: 0.4013 - val_loss: 0.3815\n",
      "Epoch 37/100\n",
      "508/508 [==============================] - 1s 1ms/step - loss: 0.4054 - val_loss: 0.3733\n",
      "Epoch 38/100\n",
      "508/508 [==============================] - 1s 1ms/step - loss: 0.4055 - val_loss: 0.3758\n",
      "Epoch 39/100\n",
      "508/508 [==============================] - 1s 1ms/step - loss: 0.4004 - val_loss: 0.3732\n",
      "Epoch 40/100\n",
      "508/508 [==============================] - 1s 1ms/step - loss: 0.3973 - val_loss: 0.3778\n",
      "Epoch 41/100\n",
      "508/508 [==============================] - 1s 1ms/step - loss: 0.3972 - val_loss: 0.3766\n",
      "Epoch 42/100\n",
      "508/508 [==============================] - 1s 1ms/step - loss: 0.3996 - val_loss: 0.3731\n",
      "Epoch 43/100\n",
      "508/508 [==============================] - 1s 1ms/step - loss: 0.3937 - val_loss: 0.3761\n",
      "Epoch 44/100\n",
      "508/508 [==============================] - 1s 1ms/step - loss: 0.4018 - val_loss: 0.3707\n",
      "Epoch 45/100\n",
      "508/508 [==============================] - 1s 1ms/step - loss: 0.3963 - val_loss: 0.3702\n",
      "Epoch 46/100\n",
      "508/508 [==============================] - 1s 1ms/step - loss: 0.3941 - val_loss: 0.3771\n",
      "Epoch 47/100\n",
      "508/508 [==============================] - 1s 1ms/step - loss: 0.3955 - val_loss: 0.3673\n",
      "Epoch 48/100\n",
      "508/508 [==============================] - 1s 1ms/step - loss: 0.3979 - val_loss: 0.3729\n",
      "Epoch 49/100\n",
      "508/508 [==============================] - 1s 1ms/step - loss: 0.3973 - val_loss: 0.3719\n",
      "Epoch 50/100\n",
      "508/508 [==============================] - 1s 1ms/step - loss: 0.3951 - val_loss: 0.3661\n",
      "Epoch 51/100\n",
      "508/508 [==============================] - 1s 1ms/step - loss: 0.3917 - val_loss: 0.3829\n",
      "Epoch 52/100\n",
      "508/508 [==============================] - 1s 1ms/step - loss: 0.3952 - val_loss: 0.3680\n",
      "Epoch 53/100\n",
      "508/508 [==============================] - 1s 1ms/step - loss: 0.3956 - val_loss: 0.3718\n",
      "Epoch 54/100\n",
      "508/508 [==============================] - 1s 1ms/step - loss: 0.3888 - val_loss: 0.3664\n",
      "Epoch 55/100\n",
      "508/508 [==============================] - 1s 1ms/step - loss: 0.3904 - val_loss: 0.3680\n",
      "Epoch 56/100\n",
      "508/508 [==============================] - 1s 1ms/step - loss: 0.3917 - val_loss: 0.3674\n",
      "Epoch 57/100\n",
      "508/508 [==============================] - 1s 1ms/step - loss: 0.3904 - val_loss: 0.3673\n",
      "Epoch 58/100\n",
      "508/508 [==============================] - 1s 1ms/step - loss: 0.3936 - val_loss: 0.3708\n",
      "Epoch 59/100\n",
      "508/508 [==============================] - 1s 1ms/step - loss: 0.3914 - val_loss: 0.3658\n",
      "Epoch 60/100\n",
      "508/508 [==============================] - 1s 1ms/step - loss: 0.3923 - val_loss: 0.3651\n",
      "Epoch 61/100\n",
      "508/508 [==============================] - 1s 1ms/step - loss: 0.3909 - val_loss: 0.3654\n",
      "Epoch 62/100\n",
      "508/508 [==============================] - 1s 1ms/step - loss: 0.3910 - val_loss: 0.3647\n",
      "Epoch 63/100\n",
      "508/508 [==============================] - 1s 1ms/step - loss: 0.3868 - val_loss: 0.3653\n",
      "Epoch 64/100\n",
      "508/508 [==============================] - 1s 1ms/step - loss: 0.3883 - val_loss: 0.3662\n",
      "Epoch 65/100\n",
      "508/508 [==============================] - 1s 1ms/step - loss: 0.3866 - val_loss: 0.3646\n",
      "Epoch 66/100\n",
      "508/508 [==============================] - 1s 1ms/step - loss: 0.3901 - val_loss: 0.3690\n",
      "Epoch 67/100\n",
      "508/508 [==============================] - 1s 1ms/step - loss: 0.3848 - val_loss: 0.3646\n",
      "Epoch 68/100\n",
      "508/508 [==============================] - 1s 1ms/step - loss: 0.3896 - val_loss: 0.3714\n",
      "Epoch 69/100\n",
      "508/508 [==============================] - 1s 1ms/step - loss: 0.3852 - val_loss: 0.3629\n",
      "Epoch 70/100\n",
      "508/508 [==============================] - 1s 1ms/step - loss: 0.3880 - val_loss: 0.3686\n",
      "Epoch 71/100\n",
      "508/508 [==============================] - 1s 1ms/step - loss: 0.3842 - val_loss: 0.3706\n",
      "Epoch 72/100\n",
      "508/508 [==============================] - 1s 1ms/step - loss: 0.3817 - val_loss: 0.3646\n",
      "Epoch 73/100\n",
      "508/508 [==============================] - 1s 1ms/step - loss: 0.3849 - val_loss: 0.3633\n",
      "Epoch 74/100\n",
      "508/508 [==============================] - 1s 1ms/step - loss: 0.3890 - val_loss: 0.3648\n",
      "Epoch 75/100\n",
      "508/508 [==============================] - 1s 1ms/step - loss: 0.3875 - val_loss: 0.3637\n",
      "Epoch 76/100\n",
      "508/508 [==============================] - 1s 1ms/step - loss: 0.3856 - val_loss: 0.3644\n",
      "Epoch 77/100\n",
      "508/508 [==============================] - 1s 1ms/step - loss: 0.3812 - val_loss: 0.3609\n",
      "Epoch 78/100\n",
      "508/508 [==============================] - 1s 1ms/step - loss: 0.3788 - val_loss: 0.3678\n",
      "Epoch 79/100\n",
      "508/508 [==============================] - 1s 1ms/step - loss: 0.3831 - val_loss: 0.3617\n",
      "Epoch 80/100\n",
      "508/508 [==============================] - 1s 1ms/step - loss: 0.3816 - val_loss: 0.3618\n",
      "Epoch 81/100\n",
      "508/508 [==============================] - 1s 1ms/step - loss: 0.3798 - val_loss: 0.3633\n",
      "Epoch 82/100\n",
      "508/508 [==============================] - 1s 1ms/step - loss: 0.3819 - val_loss: 0.3615\n",
      "Epoch 83/100\n",
      "508/508 [==============================] - 1s 1ms/step - loss: 0.3810 - val_loss: 0.3658\n",
      "Epoch 84/100\n",
      "508/508 [==============================] - 1s 1ms/step - loss: 0.3782 - val_loss: 0.3639\n",
      "Epoch 85/100\n",
      "508/508 [==============================] - 1s 1ms/step - loss: 0.3851 - val_loss: 0.3620\n",
      "Epoch 86/100\n",
      "508/508 [==============================] - 1s 1ms/step - loss: 0.3843 - val_loss: 0.3650\n",
      "Epoch 87/100\n",
      "508/508 [==============================] - 1s 1ms/step - loss: 0.3727 - val_loss: 0.3614\n",
      "Epoch 88/100\n",
      "508/508 [==============================] - 1s 1ms/step - loss: 0.3799 - val_loss: 0.3639\n",
      "Epoch 89/100\n",
      "508/508 [==============================] - 1s 1ms/step - loss: 0.3835 - val_loss: 0.3629\n",
      "Epoch 90/100\n",
      "508/508 [==============================] - 1s 1ms/step - loss: 0.3779 - val_loss: 0.3690\n",
      "Epoch 91/100\n",
      "508/508 [==============================] - 1s 1ms/step - loss: 0.3780 - val_loss: 0.3583\n",
      "Epoch 92/100\n",
      "508/508 [==============================] - 1s 1ms/step - loss: 0.3786 - val_loss: 0.3626\n",
      "Epoch 93/100\n",
      "508/508 [==============================] - 1s 1ms/step - loss: 0.3774 - val_loss: 0.3654\n",
      "Epoch 94/100\n",
      "508/508 [==============================] - 1s 1ms/step - loss: 0.3769 - val_loss: 0.3627\n",
      "Epoch 95/100\n",
      "508/508 [==============================] - 1s 1ms/step - loss: 0.3773 - val_loss: 0.3634\n",
      "Epoch 96/100\n",
      "508/508 [==============================] - 1s 1ms/step - loss: 0.3799 - val_loss: 0.3588\n",
      "Epoch 97/100\n",
      "508/508 [==============================] - 1s 1ms/step - loss: 0.3776 - val_loss: 0.3605\n",
      "Epoch 98/100\n",
      "508/508 [==============================] - 1s 1ms/step - loss: 0.3782 - val_loss: 0.3614\n",
      "Epoch 99/100\n",
      "508/508 [==============================] - 1s 1ms/step - loss: 0.3773 - val_loss: 0.3649\n",
      "Epoch 100/100\n",
      "508/508 [==============================] - 1s 1ms/step - loss: 0.3767 - val_loss: 0.3635\n"
     ]
    }
   ],
   "source": [
    "history = model.fit(X_train, Y_train, epochs=100, batch_size=32, validation_data=(X_test, Y_test))\n"
   ]
  },
  {
   "cell_type": "code",
   "execution_count": 90,
   "id": "6583640f-e483-4514-b9b9-bb2cd2d87a5e",
   "metadata": {},
   "outputs": [
    {
     "name": "stdout",
     "output_type": "stream",
     "text": [
      "508/508 [==============================] - 0s 554us/step\n",
      "127/127 [==============================] - 0s 579us/step\n",
      "训练集 R^2: 0.7271265371245914\n",
      "训练集 MSE: 0.33811269582365444\n",
      "测试集 R^2: 0.6951212317761482\n",
      "测试集 MSE: 0.36352087081936035\n"
     ]
    }
   ],
   "source": [
    "Y_train_pred =model.predict(X_train)\n",
    "Y_test_pred = model.predict(X_test)\n",
    "r2_train = r2_score(Y_train, Y_train_pred)\n",
    "mse_train = mean_squared_error(Y_train, Y_train_pred)\n",
    "\n",
    "# 测试集上的评估\n",
    "r2_test = r2_score(Y_test, Y_test_pred)\n",
    "mse_test = mean_squared_error(Y_test, Y_test_pred)\n",
    "\n",
    "# 输出结果\n",
    "print(f\"训练集 R^2: {r2_train}\")\n",
    "print(f\"训练集 MSE: {mse_train}\")\n",
    "print(f\"测试集 R^2: {r2_test}\")\n",
    "print(f\"测试集 MSE: {mse_test}\")"
   ]
  },
  {
   "cell_type": "code",
   "execution_count": null,
   "id": "c94b1ebf-b73c-47d6-aa91-0143adc20f17",
   "metadata": {},
   "outputs": [],
   "source": []
  }
 ],
 "metadata": {
  "kernelspec": {
   "display_name": "MachineLearning",
   "language": "python",
   "name": "machinelearning"
  },
  "language_info": {
   "codemirror_mode": {
    "name": "ipython",
    "version": 3
   },
   "file_extension": ".py",
   "mimetype": "text/x-python",
   "name": "python",
   "nbconvert_exporter": "python",
   "pygments_lexer": "ipython3",
   "version": "3.8.20"
  }
 },
 "nbformat": 4,
 "nbformat_minor": 5
}
